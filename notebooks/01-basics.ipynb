{
 "cells": [
  {
   "cell_type": "markdown",
   "metadata": {},
   "source": [
    "# Introduction to Seaborn\n",
    "\n",
    "`Seaborn` is a library for creating data visualizations. More specifically, it is commonly used to create statistical graphs. It is built on top of `matplotlib` but offers a very distinct interface that is closely integrated with `pandas` data structures.\n",
    "\n",
    "By storing your in a `pandas` `DataFrame` and wrangling it into the right shape, `seaborn` lets you create complex visualizations with only a single line of code.\n",
    "\n",
    "This notebook follows and expands upon the main points of the [official `seaborn` tutorial](https://seaborn.pydata.org/tutorial.html):\n",
    "\n",
    "First, we introduce `pandas` and the data structure that `seaborn`'s plotting functions expect. Then, we give an overview of the different categories of plotting functions that `seaborn` offers. Finally, we will produce a variety of example visualizations and discuss how to customize their style.\n"
   ]
  },
  {
   "cell_type": "markdown",
   "metadata": {},
   "source": [
    "## Data wrangling\n",
    "\n",
    "`Seaborn` works best with data that is stored in tabular form in a `pandas` `DataFrame`. Since we want to focus on `seaborn` and data visualization in this session, we do not have time to discuss in-depth `DataFrame`s or the data wrangling capabilities of `pandas`. If you are interested in learning more about that, however, check out our [workshop on data wrangling using `pandas`](https://git.dartmouth.edu/lib-digital-strategies/RDS/workshops/data-science/dirty-data).\n",
    "\n",
    "For the purposes of this session, we will zoom in on `pandas`' main function how to change the general structure of the data: `pivot`, `melt`, and `wide_to_long`.\n",
    "\n",
    "To demonstrate these functions, we load two different datasets in two different shapes:\n"
   ]
  },
  {
   "cell_type": "code",
   "execution_count": null,
   "metadata": {},
   "outputs": [],
   "source": [
    "import pandas as pd\n",
    "\n",
    "penguins_long = pd.read_csv(\"../data/penguins_long.csv\")\n",
    "flights_wide = pd.read_csv(\"../data/flights_wide.csv\")"
   ]
  },
  {
   "cell_type": "markdown",
   "metadata": {},
   "source": [
    "### Long-form versus wide-form data\n",
    "\n",
    "Let's take a look at the two different datasets we loaded:\n"
   ]
  },
  {
   "cell_type": "code",
   "execution_count": null,
   "metadata": {},
   "outputs": [],
   "source": [
    "penguins_long"
   ]
  },
  {
   "cell_type": "code",
   "execution_count": null,
   "metadata": {},
   "outputs": [],
   "source": [
    "flights_wide"
   ]
  },
  {
   "cell_type": "markdown",
   "metadata": {},
   "source": [
    "We notice that they have a very different structure:\n",
    "\n",
    "In `penguins_wide`, we have one variable per column and one observation per row. In `flights_wide`, we have one row per level of one the variables (`year`), and one column per level of the other variable (the month). Each cell contains a value that is related to the specific levels of the variables shown across the columns and rows (i.e., the value in a particular year and a particular month).\n",
    "\n",
    "<figure>\n",
    "<img src=\"https://seaborn.pydata.org/_images/data_structure_19_0.png\" style=\"width:60%\">\n",
    "<figcaption align=\"left\">Long-form versus wide-form data. Each color denotes a variable.</figcaption>\n",
    "</figure>\n",
    "\n",
    "We often see the wide format in spreadsheets with few variables: It is intuitive to a human reader to find the intersection of the levels of interest of the two variables and then read the value. However, if we want to process the dataset computationally, this format has two major disadvantages:\n",
    "\n",
    "- The meaning of the data is unclear because there is no label that clearly states what the numbers represent\n",
    "- The format does not scale well to more than three variables: Each new variable would require repeating all levels of the variable expressed in the columns\n",
    "\n",
    "The long format may seem at first glance much harder to read, but it does not suffer from the above issues: Every variable is clearly labeled by its column header, and adding a variable simply means adding another column.\n",
    "\n",
    "For computational data processing, we therefore generally prefer the long format, also called [tidy data](https://vita.had.co.nz/papers/tidy-data.pdf)\n"
   ]
  },
  {
   "cell_type": "markdown",
   "metadata": {},
   "source": [
    "### How to get your data tidy\n",
    "\n",
    "Because the wide format is often considered more human-readable, we frequently find wide data tables _in the wild_. Fortunately, `pandas` comes with a set of functions to restructure a `DataFrame`: `melt`, `pivot`, and `wide_to_long`.\n",
    "\n",
    "The `melt` method lets you move a variable, whose levels are expressed as different columns, to a single column that contains one row per level.\n",
    "\n",
    "<div class=\"alert alert-block alert-info\">\n",
    "\n",
    "The name _melt_ probably derives from the metaphor of thinking of the data table as a chunk of ice that you expose to heat on the right: The table will start to \"melt\" from the right, losing columns that trickle down and pool at the bottom, making the table narrower, and longer.\n",
    "\n",
    "</div>\n",
    "\n",
    "Let's try it with the flights data:\n"
   ]
  },
  {
   "cell_type": "code",
   "execution_count": null,
   "metadata": {},
   "outputs": [],
   "source": [
    "flights_long = flights_wide.melt(\n",
    "    id_vars=\"year\",  # Which column should be used as the identifier variable (not melted)\n",
    "    # All other columns will be melted!\n",
    "    var_name=\"month\",  # Name for the new variable/column\n",
    "    value_name=\"n_passengers\",  # Name for the column holding the values\n",
    ")\n",
    "flights_long"
   ]
  },
  {
   "cell_type": "markdown",
   "metadata": {},
   "source": [
    "The inverse of the `melt` operation is `pivot`:\n"
   ]
  },
  {
   "cell_type": "code",
   "execution_count": null,
   "metadata": {},
   "outputs": [],
   "source": [
    "flights_long.pivot(\n",
    "    index=\"year\",  # Which column to use as the index (each level of this variable will be one row)\n",
    "    columns=\"month\",  # Create a new column for each level of this variable\n",
    ")"
   ]
  },
  {
   "cell_type": "markdown",
   "metadata": {},
   "source": [
    "Finally, the function `wide_to_long` can help you restructure more complex wide-form data with more than three variables. This is beyond the scope of this session, however.\n",
    "\n",
    "<div class=\"alert alert-block alert-info\">\n",
    "\n",
    "You actually _can_ use wide-form data to create visualizations in `seaborn`. However, it is strongly encouraged to use long-form data to make the most out of `seaborn`'s ability to structure and label visualizations according to the variables in your data structure.\n"
   ]
  },
  {
   "cell_type": "markdown",
   "metadata": {},
   "source": [
    "## The two categories of `seaborn` plotting functions\n",
    "\n",
    "There is a great variety of plotting functions available within `seaborn`, but all of them fall into one of two categories: _axes-level_ functions or _figure-level_ functions.\n",
    "\n",
    "An axes-level function is very similar to a `matplotlib` plotting function: It creates and returns a self-contained, single-axes plot.\n",
    "\n",
    "A figure-level function, on the other hand, lets you create multiple axes with just a single line of code. We will see some examples of this in a little bit.\n",
    "\n",
    "Figure-level functions also offer a single interface to multiple different axes-level functions:\n",
    "\n",
    "<figure>\n",
    "<img src=\"https://seaborn.pydata.org/_images/function_overview_8_0.png\" style=\"width:60%\">\n",
    "<figcaption align=\"left\">Organization of figure- and axes-level functions.</figcaption>\n",
    "</figure>\n",
    "\n",
    "In the next couple of sections, we will see how to use both kinds of functions.\n"
   ]
  },
  {
   "cell_type": "markdown",
   "metadata": {},
   "source": [
    "## Visualizing statistical relationships\n",
    "\n",
    "Two kinds of charts can be used to show the relationship between two or more variables: line plots and scatter plots.\n",
    "\n",
    "Line plots work best when you have clear, continuous independent and dependent variables. The flights data, for example, is a time series and therefore fits this description.\n",
    "\n",
    "You can create a line plot with `seaborn` by using the function `lineplot`, passing it the data, and specifying the name of the variable to be shown on the _x_ and _y_ axis, respectively:\n"
   ]
  },
  {
   "cell_type": "code",
   "execution_count": null,
   "metadata": {},
   "outputs": [],
   "source": [
    "import seaborn as sns\n",
    "\n",
    "sns.lineplot(flights_long.query(\"year == 1950\"), x=\"month\", y=\"n_passengers\")"
   ]
  },
  {
   "cell_type": "markdown",
   "metadata": {},
   "source": [
    "In the above example, we only showed the series of a single year. If we keep the data from all years, there are now multiple values for `n_passengers` that we want to plot for each value of `month`. In this case, when there are several _y_ values for the same value of _x_, `seaborn` shows the mean of these values and the confidence interval:\n"
   ]
  },
  {
   "cell_type": "code",
   "execution_count": null,
   "metadata": {},
   "outputs": [],
   "source": [
    "sns.lineplot(flights_long, x=\"month\", y=\"n_passengers\")"
   ]
  },
  {
   "cell_type": "markdown",
   "metadata": {},
   "source": [
    "If instead we would like to see a different line per year, we can use the `style` paramter. If we specify a variable as the argument, the data will be grouped by that variable and each group will be plotted with a different line style:\n"
   ]
  },
  {
   "cell_type": "code",
   "execution_count": null,
   "metadata": {},
   "outputs": [],
   "source": [
    "sns.lineplot(flights_long, x=\"month\", y=\"n_passengers\", style=\"year\")"
   ]
  },
  {
   "cell_type": "markdown",
   "metadata": {},
   "source": [
    "If the grouping variable has more than a few levels, this can be hard to process for the human eye, however. We could therefore also change the color of each line using the `hue` parameter:\n"
   ]
  },
  {
   "cell_type": "code",
   "execution_count": null,
   "metadata": {},
   "outputs": [],
   "source": [
    "sns.lineplot(flights_long, x=\"month\", y=\"n_passengers\", style=\"year\", hue=\"year\")"
   ]
  },
  {
   "cell_type": "markdown",
   "metadata": {},
   "source": [
    "The penguins dataset is a good example for a collection of observations that do not have a sequential relationship. We could therefore visualize some of the variables in a scatter plot:\n"
   ]
  },
  {
   "cell_type": "code",
   "execution_count": null,
   "metadata": {},
   "outputs": [],
   "source": [
    "sns.scatterplot(penguins_long, x=\"bill_length_mm\", y=\"flipper_length_mm\")"
   ]
  },
  {
   "cell_type": "markdown",
   "metadata": {},
   "source": [
    "Once again, we can use a categorical variable to plot different subgroups of the data differently. For example, we could plot each species in a different color:\n"
   ]
  },
  {
   "cell_type": "code",
   "execution_count": null,
   "metadata": {},
   "outputs": [],
   "source": [
    "sns.scatterplot(\n",
    "    penguins_long,\n",
    "    x=\"bill_length_mm\",\n",
    "    y=\"flipper_length_mm\",\n",
    "    hue=\"species\",\n",
    "    style=\"species\",\n",
    ")"
   ]
  },
  {
   "cell_type": "markdown",
   "metadata": {},
   "source": [
    "Since the interface of these functions is so similar, the figure-level function `relplot` can be used to create either of them:\n"
   ]
  },
  {
   "cell_type": "code",
   "execution_count": null,
   "metadata": {},
   "outputs": [],
   "source": [
    "sns.relplot(\n",
    "    penguins_long,\n",
    "    kind=\"scatter\",\n",
    "    x=\"bill_length_mm\",\n",
    "    y=\"flipper_length_mm\",\n",
    "    hue=\"species\",\n",
    "    style=\"species\",\n",
    ")"
   ]
  },
  {
   "cell_type": "markdown",
   "metadata": {},
   "source": [
    "The main advantage of `relplot` is that, as a figure-level function, we can now create multiple axes based on yet another grouping variable (so-called _facets_):\n"
   ]
  },
  {
   "cell_type": "code",
   "execution_count": null,
   "metadata": {},
   "outputs": [],
   "source": [
    "sns.relplot(\n",
    "    penguins_long,\n",
    "    kind=\"scatter\",\n",
    "    x=\"bill_length_mm\",\n",
    "    y=\"flipper_length_mm\",\n",
    "    hue=\"species\",\n",
    "    col=\"island\",\n",
    "    row=\"sex\",\n",
    ")"
   ]
  },
  {
   "cell_type": "markdown",
   "metadata": {},
   "source": []
  },
  {
   "cell_type": "markdown",
   "metadata": {},
   "source": [
    "## Visualizing distributions of data\n",
    "\n",
    "If we are intereted in visualizing the univariate distribution of a variable, we have a few options to choose from: a histogram, a probability density curve, a cumulative distribution function, or a marginal distribution. Just like with the relational plots, all of these functions are also accessible through a figure-level function.\n",
    "\n",
    "Let's walk through them one by one, using the penguins as an example!\n",
    "\n",
    "The histogram organizing the data by grouping them into ranges (a.k.a. _binning_) and then computes some sort of statistic on it, e.g. the count.\n",
    "\n",
    "For example, we can quickly familiarize ourselves with the body mass of our penguins using the default settings of the function `histplot()`:\n"
   ]
  },
  {
   "cell_type": "code",
   "execution_count": null,
   "metadata": {},
   "outputs": [],
   "source": [
    "sns.histplot(penguins_long, x=\"body_mass_g\")"
   ]
  },
  {
   "cell_type": "markdown",
   "metadata": {},
   "source": [
    "By default, the calculated statistic in each bin is the number of observations that fall into it. We can change this by supplying and argument to the `stat` parameter. To get the percentage of the total data that fall into each range, we can for example do this:\n"
   ]
  },
  {
   "cell_type": "code",
   "execution_count": null,
   "metadata": {},
   "outputs": [],
   "source": [
    "sns.histplot(penguins_long, x=\"body_mass_g\", stat=\"percent\")"
   ]
  },
  {
   "cell_type": "markdown",
   "metadata": {},
   "source": [
    "We can also change the width of each bin using the corresponding parameter:\n"
   ]
  },
  {
   "cell_type": "code",
   "execution_count": null,
   "metadata": {},
   "outputs": [],
   "source": [
    "sns.histplot(penguins_long, x=\"body_mass_g\", stat=\"percent\", binwidth=250)"
   ]
  },
  {
   "cell_type": "markdown",
   "metadata": {},
   "source": [
    "Exercise:\n",
    "\n",
    "- Plot the histogram in different colors for each `sex`! **Hint:** `histplot()` uses many of the same parameters as `scatterplot()`!\n",
    "- Add a `y` variable of you choice. What do you see for a categorical `y`, and what for a continuous `y`?\n"
   ]
  },
  {
   "cell_type": "markdown",
   "metadata": {},
   "source": [
    "If the sample size is sufficiently large, we can also estimate its probablity density function by using the `kdeplot()`, which stands for _kernel density estimation_ and is essentially a smoothed histogram:\n"
   ]
  },
  {
   "cell_type": "code",
   "execution_count": null,
   "metadata": {},
   "outputs": [],
   "source": [
    "sns.kdeplot(penguins_long, x=\"body_mass_g\")"
   ]
  },
  {
   "cell_type": "markdown",
   "metadata": {},
   "source": [
    "Exercise:\n",
    "\n",
    "- Once again, use different colors for each level of the variable `sex`! What do you observe compared to using `histplot()`?\n",
    "- Change the degree of smoothing by changing the parameter `bw_adjust` to different values in the range from `0.1` to `1.0`. What do you observere for very large and very low values of `bw_adjust`?\n"
   ]
  },
  {
   "cell_type": "markdown",
   "metadata": {},
   "source": [
    "Another way to look at your data's distribution is by calculating the empirical cumulative distribution. This visualization is great if you want be able to show the perentiles in your data:\n"
   ]
  },
  {
   "cell_type": "code",
   "execution_count": null,
   "metadata": {},
   "outputs": [],
   "source": [
    "sns.ecdfplot(penguins_long, x=\"body_mass_g\")"
   ]
  },
  {
   "cell_type": "markdown",
   "metadata": {},
   "source": [
    "Sometimes we want to see the actual datapoints in addition to the computed statistics. For this case, we can add a marginal distribution to another plot using `rugplot()`:\n"
   ]
  },
  {
   "cell_type": "code",
   "execution_count": null,
   "metadata": {},
   "outputs": [],
   "source": [
    "sns.kdeplot(penguins_long, x=\"body_mass_g\")\n",
    "sns.rugplot(penguins_long, x=\"body_mass_g\")"
   ]
  },
  {
   "cell_type": "markdown",
   "metadata": {},
   "source": [
    "We can even do this in combination with plots that are of a different \"family\", e.g. `scatterplot`:\n"
   ]
  },
  {
   "cell_type": "code",
   "execution_count": null,
   "metadata": {},
   "outputs": [],
   "source": [
    "sns.scatterplot(\n",
    "    penguins_long,\n",
    "    x=\"bill_length_mm\",\n",
    "    y=\"flipper_length_mm\",\n",
    ")\n",
    "sns.rugplot(\n",
    "    penguins_long,\n",
    "    x=\"bill_length_mm\",\n",
    "    y=\"flipper_length_mm\",\n",
    ")"
   ]
  },
  {
   "cell_type": "markdown",
   "metadata": {},
   "source": [
    "## Visualizing categorical data\n"
   ]
  },
  {
   "cell_type": "markdown",
   "metadata": {},
   "source": [
    "## Creating multi-plot visualizations\n"
   ]
  },
  {
   "cell_type": "markdown",
   "metadata": {},
   "source": [
    "## Styling figures\n"
   ]
  },
  {
   "cell_type": "code",
   "execution_count": null,
   "metadata": {},
   "outputs": [],
   "source": []
  }
 ],
 "metadata": {
  "kernelspec": {
   "display_name": ".venv",
   "language": "python",
   "name": "python3"
  },
  "language_info": {
   "codemirror_mode": {
    "name": "ipython",
    "version": 3
   },
   "file_extension": ".py",
   "mimetype": "text/x-python",
   "name": "python",
   "nbconvert_exporter": "python",
   "pygments_lexer": "ipython3",
   "version": "3.10.8"
  }
 },
 "nbformat": 4,
 "nbformat_minor": 2
}
